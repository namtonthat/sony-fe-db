{
 "cells": [
  {
   "cell_type": "code",
   "execution_count": 372,
   "metadata": {},
   "outputs": [],
   "source": [
    "import requests\n",
    "from bs4 import BeautifulSoup\n",
    "import pandas as pd \n",
    "import polars as pl\n",
    "import json\n",
    "import os\n",
    "import re"
   ]
  },
  {
   "cell_type": "code",
   "execution_count": 374,
   "metadata": {},
   "outputs": [],
   "source": [
    "SONY_URL = \"https://lens-db.com/system/sony-e/\"\n",
    "\n",
    "page = requests.get(SONY_URL)\n",
    "soup = BeautifulSoup(page.content, 'html.parser')\n",
    "\n",
    "with open('source/all-lens.html', 'w') as f: \n",
    "    f.write(soup.prettify())\n",
    "    f.close"
   ]
  },
  {
   "cell_type": "code",
   "execution_count": 366,
   "metadata": {},
   "outputs": [],
   "source": [
    "from typing import List \n",
    "\n",
    "def get_lens_model(full_lens_name: str) -> List[str]:\n",
    "    \"Parse the raw text and split into the name, model and filter size\"\n",
    "    pattern = r'^(.*?)\\s*\\[(.*?)\\](?:.*⌀(\\d+))?'\n",
    "    match = re.match(pattern, full_lens_name)\n",
    "    \n",
    "    if match:\n",
    "        results = {}\n",
    "        lens_name = match.group(1).strip()\n",
    "        lens_model = match.group(2).strip()\n",
    "        filter_size = match.group(3)\n",
    "        if filter_size: \n",
    "            filter_size = filter_size.strip()\n",
    "        else: \n",
    "            filter_size = None\n",
    "\n",
    "        results['name']  = lens_name\n",
    "        results['model'] = lens_model\n",
    "        results['filter_size'] = filter_size\n",
    "        \n",
    "        return results"
   ]
  },
  {
   "cell_type": "code",
   "execution_count": 380,
   "metadata": {},
   "outputs": [],
   "source": [
    "all_lenses = soup.find_all(\"td\", {\"class\": \"uk-table-expand\"})\n",
    "# for lens in all_lenses: \n",
    "\n",
    "lenses = []\n",
    "for lens in all_lenses:     \n",
    "    single_lens = {} \n",
    "    lens_data = get_lens_model(lens.get_text())\n",
    "    # should only have one link per lens and return the href element\n",
    "    link = lens.find_all('a', href=True)[0]['href']\n",
    "    \n",
    "    single_lens['link'] = link \n",
    "    single_lens = {**single_lens, **lens_data}\n",
    "    lenses.append(single_lens)"
   ]
  },
  {
   "cell_type": "code",
   "execution_count": 3,
   "metadata": {},
   "outputs": [],
   "source": [
    "SINGLE_LENS_URL = \"https://lens-db.com/sony-fe-50mm-f14-gm-sel50f14gm-2023/\"\n",
    "\n",
    "page = requests.get(SINGLE_LENS_URL)\n",
    "soup = BeautifulSoup(page.content, 'html.parser')\n",
    "\n",
    "with open('source/single-lens.html', 'w') as f:\n",
    "    f.write(soup.prettify())\n",
    "    f.close"
   ]
  },
  {
   "cell_type": "code",
   "execution_count": 6,
   "metadata": {},
   "outputs": [],
   "source": [
    "soup  = BeautifulSoup(open('source/single-lens.html', 'r').read())\n",
    "source_data = soup.find_all('div', {\"itemtype\":\"http://schema.org/Table\"})"
   ]
  },
  {
   "cell_type": "code",
   "execution_count": 36,
   "metadata": {},
   "outputs": [],
   "source": [
    "features = soup.find_all('td')"
   ]
  },
  {
   "cell_type": "code",
   "execution_count": 418,
   "metadata": {},
   "outputs": [],
   "source": [
    "def clean_str_list(text: str) -> str: \n",
    "    split_texts = text.strip().split('\\n')\n",
    "    cleaned_texts = []\n",
    "    for split_text in split_texts: \n",
    "        test_string = split_text.strip()\n",
    "        is_white_space = re.match(RE_WHITE_SPACE, test_string)\n",
    "        if is_white_space: \n",
    "            pass \n",
    "        else: \n",
    "            cleaned_texts.append(test_string)\n",
    "    \n",
    "    return ' '.join(cleaned_texts).strip().strip(\":\")\n",
    "\n",
    "def camel_to_snake(name: str) -> str:\n",
    "    name = name.replace(' ', '_')\n",
    "    name = re.sub(\"(.)([A-Z][a-z]+)\", r\"\\1_\\2\", name)\n",
    "    return re.sub(\"([a-z0-9])([A-Z])\", r\"\\1_\\2\", name).lower().replace(\" \", \"\")"
   ]
  },
  {
   "cell_type": "code",
   "execution_count": 401,
   "metadata": {},
   "outputs": [],
   "source": [
    "import yaml \n",
    "required_features = yaml.SafeLoader(open('config/features.yml')).get_data()\n",
    "feature_keys = required_features.get('specs')"
   ]
  },
  {
   "cell_type": "code",
   "execution_count": 233,
   "metadata": {},
   "outputs": [],
   "source": []
  },
  {
   "cell_type": "code",
   "execution_count": 404,
   "metadata": {},
   "outputs": [],
   "source": [
    "lens_args = [camel_to_snake(spec) for spec in feature_keys]\n",
    "\n",
    "\n",
    "lens_feature = {} \n",
    "for feature_index, feature in enumerate(features_cleaned): \n",
    "    if feature in feature_keys: \n",
    "        feature_value = features_cleaned[feature_index + 1]\n",
    "        feature_key = camel_to_snake(feature)\n",
    "        lens_feature[feature_key] = feature_value\n",
    "    "
   ]
  },
  {
   "cell_type": "code",
   "execution_count": 425,
   "metadata": {},
   "outputs": [],
   "source": [
    "import logging \n",
    "from dataclasses import field\n",
    "from typing import Optional\n",
    "\n",
    "# global variables\n",
    "RE_WHITE_SPACE = \"\\W+\"\n",
    "RE_SPEED = r'F/(\\d+(?:\\.\\d+)?)'\n",
    "RE_FOCAL = r'(\\d+)mm'\n",
    "SONY_URL = \"https://lens-db.com/system/sony-e/\"\n",
    "\n",
    "\n",
    "@dataclass\n",
    "class Lens:\n",
    "    closest_focusing_distance: str\n",
    "    filters: str\n",
    "    lens_construction: str\n",
    "    maximum_magnification: str\n",
    "    original_name: str\n",
    "    production_status: str\n",
    "    system: str\n",
    "    weight: str\n",
    "    focusing_modes: str\n",
    "    number_of_blades: Any\n",
    "\n",
    "    # derived fields\n",
    "    min_aperture: float = field(init=False)\n",
    "    max_aperture: float = field(init=False)\n",
    "    min_focal_length: float = field(init=False)\n",
    "    max_focal_length: float = field(init=False)\n",
    "    is_prime: bool = field(init=False)\n",
    "    is_zoom: bool = field(init=False)\n",
    "\n",
    "    # due to inconsistency between descriptions, have to parse alternative features as well\n",
    "    speed: Optional[str] = \"\"\n",
    "    focal_length: Optional[str] = \"\"\n",
    "    speed_range: Optional[str] = \"\"\n",
    "    focal_length_range: Optional[str] = \"\"\n",
    "\n",
    "\n",
    "    def __post_init__(self):\n",
    "        self.min_aperture, self.max_aperture = self.get_apertures()\n",
    "        self.min_focal_length, self.max_focal_length = self.get_focal_lengths()\n",
    "\n",
    "    @property\n",
    "    def filter_size(self) -> float:\n",
    "        return self.filters.split('mm').split(' ')\n",
    "\n",
    "    @property\n",
    "    def min_focusing_distance(self) -> float:\n",
    "        return self.closest_focusing_distance.strip('m [AF]')\n",
    "\n",
    "    @property\n",
    "    def no_of_blades(self) -> int:\n",
    "        return int(self.number_of_blades.split(' ')[0])\n",
    "\n",
    "    @property\n",
    "    def is_autofocus(self) -> bool:\n",
    "        has_autofocus = \"auto\" in self.focusing_modes.lower()\n",
    "        return has_autofocus\n",
    "\n",
    "\n",
    "    def get_apertures(self) -> float:\n",
    "        matches = re.findall(RE_SPEED, self.speed if self.speed != \"\" else self.speed_range)\n",
    "        speed_ranges = [float(match) for match in matches]\n",
    "\n",
    "        if len(speed_ranges) == 1:\n",
    "            min = speed_ranges[0]\n",
    "            max = speed_ranges[0]\n",
    "            self.is_zoom = False\n",
    "        elif len(speed_ranges) >= 2:\n",
    "            min = speed_ranges[0]\n",
    "            max = speed_ranges[1]\n",
    "            self.is_zoom = True\n",
    "        else:\n",
    "            logging.error('Error parsing apertures; none found for %s',self.original_name)\n",
    "        return (min, max)\n",
    "\n",
    "    def get_focal_lengths(self) -> float:\n",
    "        matches = re.findall(RE_FOCAL, self.focal_length if self.focal_length != \"\" else self.focal_length_range)\n",
    "        focal_ranges = [int(match) for match in matches]\n",
    "        if len(focal_ranges) == 1:\n",
    "            min = focal_ranges[0]\n",
    "            max = focal_ranges[0]\n",
    "            self.is_prime = True\n",
    "        elif len(focal_ranges) >= 2:\n",
    "            min = focal_ranges[0]\n",
    "            max = focal_ranges[1]\n",
    "            self.is_prime = False\n",
    "        else:\n",
    "            logging.error('Error parsing focal lengths; none found for %s',self.original_name)\n",
    "\n",
    "        return (min, max)"
   ]
  },
  {
   "cell_type": "code",
   "execution_count": 406,
   "metadata": {},
   "outputs": [],
   "source": [
    "def parse_lens_link(lens_link: str) -> pl.DataFrame:\n",
    "    page = requests.get(lens_link)\n",
    "    soup = BeautifulSoup(page.content, 'html.parser')\n",
    "    features = soup.find_all('td')\n",
    "    features_cleaned = []\n",
    "    for feature in features:\n",
    "        cleaned_text = clean_str_list(feature.get_text())\n",
    "        features_cleaned.append(cleaned_text)\n",
    "    lens_feature = {}\n",
    "    for feature_index, feature in enumerate(features_cleaned):\n",
    "        if feature in feature_keys:\n",
    "            feature_value = features_cleaned[feature_index + 1]\n",
    "            feature_key = camel_to_snake(feature)\n",
    "            lens_feature[feature_key] = feature_value\n",
    "    df = pl.from_dict(Lens(**lens_feature).__dict__)\n",
    "    return df"
   ]
  },
  {
   "cell_type": "code",
   "execution_count": 427,
   "metadata": {},
   "outputs": [],
   "source": [
    "lenses = [{'link': 'https://lens-db.com/sony-fe-12-24mm-f4-g-sel1224g-2017/'}]\n",
    "for lens in lenses:\n",
    "    link = lens.get('link')\n",
    "    df_lens_zoom = parse_lens_link(lens_link = link)"
   ]
  },
  {
   "cell_type": "code",
   "execution_count": 430,
   "metadata": {},
   "outputs": [],
   "source": [
    "lenses = [{'link': 'https://lens-db.com/sony-fe-50mm-f14-gm-sel50f14gm-2023/'}]\n",
    "for lens in lenses:\n",
    "    link = lens.get('link')\n",
    "    df_lens = parse_lens_link(lens_link = link)\n"
   ]
  },
  {
   "cell_type": "code",
   "execution_count": 432,
   "metadata": {},
   "outputs": [
    {
     "data": {
      "text/html": [
       "<div><style>\n",
       ".dataframe > thead > tr > th,\n",
       ".dataframe > tbody > tr > td {\n",
       "  text-align: right;\n",
       "}\n",
       "</style>\n",
       "<small>shape: (1, 1)</small><table border=\"1\" class=\"dataframe\"><thead><tr><th>speed</th></tr><tr><td>str</td></tr></thead><tbody><tr><td>&quot;&quot;</td></tr></tbody></table></div>"
      ],
      "text/plain": [
       "shape: (1, 1)\n",
       "┌───────┐\n",
       "│ speed │\n",
       "│ ---   │\n",
       "│ str   │\n",
       "╞═══════╡\n",
       "│       │\n",
       "└───────┘"
      ]
     },
     "execution_count": 432,
     "metadata": {},
     "output_type": "execute_result"
    }
   ],
   "source": [
    "df_lens_zoom.select('speed')"
   ]
  },
  {
   "cell_type": "code",
   "execution_count": 431,
   "metadata": {},
   "outputs": [
    {
     "data": {
      "text/html": [
       "<div><style>\n",
       ".dataframe > thead > tr > th,\n",
       ".dataframe > tbody > tr > td {\n",
       "  text-align: right;\n",
       "}\n",
       "</style>\n",
       "<small>shape: (1, 1)</small><table border=\"1\" class=\"dataframe\"><thead><tr><th>speed</th></tr><tr><td>str</td></tr></thead><tbody><tr><td>&quot;F/1.4&quot;</td></tr></tbody></table></div>"
      ],
      "text/plain": [
       "shape: (1, 1)\n",
       "┌───────┐\n",
       "│ speed │\n",
       "│ ---   │\n",
       "│ str   │\n",
       "╞═══════╡\n",
       "│ F/1.4 │\n",
       "└───────┘"
      ]
     },
     "execution_count": 431,
     "metadata": {},
     "output_type": "execute_result"
    }
   ],
   "source": [
    "df_lens.select('speed')"
   ]
  },
  {
   "cell_type": "code",
   "execution_count": 394,
   "metadata": {},
   "outputs": [],
   "source": [
    "df_lenses = pl.DataFrame({})"
   ]
  },
  {
   "cell_type": "code",
   "execution_count": 396,
   "metadata": {},
   "outputs": [
    {
     "data": {
      "text/html": [
       "<div><style>\n",
       ".dataframe > thead > tr > th,\n",
       ".dataframe > tbody > tr > td {\n",
       "  text-align: right;\n",
       "}\n",
       "</style>\n",
       "<small>shape: (1, 18)</small><table border=\"1\" class=\"dataframe\"><thead><tr><th>closest_focusing_distance</th><th>filters</th><th>lens_construction</th><th>maximum_magnification</th><th>original_name</th><th>production_status</th><th>speed</th><th>system</th><th>weight</th><th>focal_length</th><th>focusing_modes</th><th>number_of_blades</th><th>is_zoom</th><th>min_aperture</th><th>max_aperture</th><th>is_prime</th><th>min_focal_length</th><th>max_focal_length</th></tr><tr><td>str</td><td>str</td><td>str</td><td>str</td><td>str</td><td>str</td><td>str</td><td>str</td><td>str</td><td>str</td><td>str</td><td>str</td><td>bool</td><td>f64</td><td>f64</td><td>bool</td><td>f64</td><td>f64</td></tr></thead><tbody><tr><td>&quot;0.41m [AF]&quot;</td><td>&quot;Screw-type 67m…</td><td>&quot;14 elements in…</td><td>&quot;1:6.25 [AF] at…</td><td>&quot;SONY FE 1.4/50…</td><td>&quot;&quot;</td><td>&quot;F/1.4&quot;</td><td>&quot;Sony E (2013)&quot;</td><td>&quot;516g&quot;</td><td>&quot;50mm&quot;</td><td>&quot;Autofocus, man…</td><td>&quot;11 (eleven)&quot;</td><td>false</td><td>1.4</td><td>1.4</td><td>true</td><td>50.0</td><td>50.0</td></tr></tbody></table></div>"
      ],
      "text/plain": [
       "shape: (1, 18)\n",
       "┌────────────┬─────┬────────────┬────────────┬───┬────────────┬──────────┬────────────┬────────────┐\n",
       "│ closest_fo ┆ fil ┆ lens_const ┆ maximum_ma ┆ … ┆ max_apertu ┆ is_prime ┆ min_focal_ ┆ max_focal_ │\n",
       "│ cusing_dis ┆ ter ┆ ruction    ┆ gnificatio ┆   ┆ re         ┆ ---      ┆ length     ┆ length     │\n",
       "│ tance      ┆ s   ┆ ---        ┆ n          ┆   ┆ ---        ┆ bool     ┆ ---        ┆ ---        │\n",
       "│ ---        ┆ --- ┆ str        ┆ ---        ┆   ┆ f64        ┆          ┆ f64        ┆ f64        │\n",
       "│ str        ┆ str ┆            ┆ str        ┆   ┆            ┆          ┆            ┆            │\n",
       "╞════════════╪═════╪════════════╪════════════╪═══╪════════════╪══════════╪════════════╪════════════╡\n",
       "│ 0.41m [AF] ┆ Scr ┆ 14         ┆ 1:6.25     ┆ … ┆ 1.4        ┆ true     ┆ 50.0       ┆ 50.0       │\n",
       "│            ┆ ew- ┆ elements   ┆ [AF] at    ┆   ┆            ┆          ┆            ┆            │\n",
       "│            ┆ typ ┆ in 11      ┆ the        ┆   ┆            ┆          ┆            ┆            │\n",
       "│            ┆ e   ┆ groups     ┆ closest    ┆   ┆            ┆          ┆            ┆            │\n",
       "│            ┆ 67m ┆            ┆ focus…     ┆   ┆            ┆          ┆            ┆            │\n",
       "│            ┆ m   ┆            ┆            ┆   ┆            ┆          ┆            ┆            │\n",
       "└────────────┴─────┴────────────┴────────────┴───┴────────────┴──────────┴────────────┴────────────┘"
      ]
     },
     "execution_count": 396,
     "metadata": {},
     "output_type": "execute_result"
    }
   ],
   "source": [
    "pl.concat([df_lenses, df_lens])"
   ]
  },
  {
   "cell_type": "code",
   "execution_count": null,
   "metadata": {},
   "outputs": [],
   "source": []
  }
 ],
 "metadata": {
  "kernelspec": {
   "display_name": "lens-db",
   "language": "python",
   "name": "lens-db"
  },
  "language_info": {
   "codemirror_mode": {
    "name": "ipython",
    "version": 3
   },
   "file_extension": ".py",
   "mimetype": "text/x-python",
   "name": "python",
   "nbconvert_exporter": "python",
   "pygments_lexer": "ipython3",
   "version": "3.11.0"
  },
  "orig_nbformat": 4
 },
 "nbformat": 4,
 "nbformat_minor": 2
}
