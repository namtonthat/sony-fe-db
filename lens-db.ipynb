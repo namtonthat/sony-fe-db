{
 "cells": [
  {
   "cell_type": "code",
   "execution_count": null,
   "metadata": {},
   "outputs": [],
   "source": [
    "import requests\n",
    "from bs4 import BeautifulSoup\n",
    "import pandas\n",
    "import json\n",
    "import os\n",
    "\n",
    "\n",
    "URL = \"https://www.sony.com.au/lenses/gallery\"\n",
    "page = requests.get(URL)\n",
    "soup = BeautifulSoup(page.content, 'html.parser')\n",
    "\n",
    "# with open('source/sony-lenses.xml', 'w') as f:\n",
    "#     f.write(soup.prettify())\n",
    "#     f.close"
   ]
  }
 ],
 "metadata": {
  "language_info": {
   "name": "python"
  },
  "orig_nbformat": 4
 },
 "nbformat": 4,
 "nbformat_minor": 2
}
